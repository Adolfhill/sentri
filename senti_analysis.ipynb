{
 "cells": [
  {
   "cell_type": "code",
   "execution_count": 49,
   "source": [
    "import os, random, operator, sys\n",
    "from collections import Counter\n",
    "import random\n",
    "import collections\n",
    "import math\n",
    "import sys\n",
    "from util import *"
   ],
   "outputs": [],
   "metadata": {}
  },
  {
   "cell_type": "markdown",
   "source": [
    "## 一些功能函数\n",
    "需要阅读这些函数来对实验中用到的数据结构，步骤有一些理解"
   ],
   "metadata": {}
  },
  {
   "cell_type": "code",
   "execution_count": 7,
   "source": [
    "def dotProduct(d1, d2):\n",
    "    \"\"\"\n",
    "    @param dict d1: a feature vector represented by a mapping from a feature (string) to a weight (float).\n",
    "    @param dict d2: same as d1\n",
    "    @return float: the dot product between d1 and d2\n",
    "    \"\"\"\n",
    "    if len(d1) < len(d2):\n",
    "        return dotProduct(d2, d1)\n",
    "    else:\n",
    "        return sum(d1.get(f, 0) * v for f, v in d2.items())\n"
   ],
   "outputs": [],
   "metadata": {}
  },
  {
   "cell_type": "code",
   "execution_count": 6,
   "source": [
    "def increment(d1, scale, d2):\n",
    "    \"\"\"\n",
    "    Implements d1 += scale * d2 for sparse vectors.\n",
    "    @param dict d1: the feature vector which is mutated.\n",
    "    @param float scale\n",
    "    @param dict d2: a feature vector.\n",
    "    \"\"\"\n",
    "    for f, v in d2.items():\n",
    "        d1[f] = d1.get(f, 0) + v * scale\n"
   ],
   "outputs": [],
   "metadata": {}
  },
  {
   "cell_type": "code",
   "execution_count": 5,
   "source": [
    "def readExamples(path):\n",
    "    '''\n",
    "    读取数据\n",
    "    '''\n",
    "    examples = []\n",
    "    for line in open(path, encoding = \"ISO-8859-1\"):\n",
    "        # Format of each line: <output label (+1 or -1)> <input sentence>\n",
    "        y, x = line.split(' ', 1)\n",
    "        examples.append((x.strip(), int(y)))\n",
    "    print('Read %d examples from %s' % (len(examples), path))\n",
    "    return examples\n"
   ],
   "outputs": [],
   "metadata": {}
  },
  {
   "cell_type": "code",
   "execution_count": 44,
   "source": [
    "def evaluatePredictor(examples, predictor):\n",
    "    '''\n",
    "    在|examples|上测试|predictor|的性能，返回错误率\n",
    "    '''\n",
    "    error = 0\n",
    "    for x, y in examples:\n",
    "        if predictor(x) != y:\n",
    "            error += 1\n",
    "    return 1.0 * error / len(examples)"
   ],
   "outputs": [],
   "metadata": {}
  },
  {
   "cell_type": "markdown",
   "source": [
    "## Feature extrator (Your codes here)\n",
    "\n",
    "### (1) 使用BOW作为特征\n",
    "(a) 复习BOW\n",
    "(b) 如何把一个句子（字符串）转化成BOW的特征？"
   ],
   "metadata": {}
  },
  {
   "cell_type": "code",
   "execution_count": 7,
   "source": [
    "def extractFeatures(x):\n",
    "    \"\"\"\n",
    "    从字符串x中提取特征\n",
    "    @param string x: \n",
    "    @return dict: a feature vector represented by a mapping from a feature (string) to a weight (float).\n",
    "    \"\"\"\n",
    "    feat = dict()\n",
    "    # BEGIN_YOUR_CODE \n",
    "    \n",
    "    # END_YOUR_CODE\n",
    "    return feat"
   ],
   "outputs": [],
   "metadata": {}
  },
  {
   "cell_type": "markdown",
   "source": [
    "### (2) 使用N-Gram作为特征\n",
    "(a) 复习N-Gram相关的内容\n",
    "(b) 字级别N-Gram还是词语级别？\n",
    "(c) 如何把一个句子（字符串）转化成N-Gram的特征？"
   ],
   "metadata": {}
  },
  {
   "cell_type": "code",
   "execution_count": 50,
   "source": [
    "def extractFeatures(x):\n",
    "    \"\"\"\n",
    "    从字符串x中提取特征\n",
    "    @param string x: \n",
    "    @return dict: a feature vector represented by a mapping from a feature (string) to a weight (float).\n",
    "    \"\"\"\n",
    "    feat = dict()\n",
    "    # BEGIN_YOUR_CODE \n",
    "    \n",
    "    # END_YOUR_CODE\n",
    "    return feat"
   ],
   "outputs": [],
   "metadata": {}
  },
  {
   "cell_type": "markdown",
   "source": [
    "### （3） 使用word2vec作为特征\n",
    "(a) 获得词向量。你可以借鉴第一次的作业，使用gensim来自己训练一个word2vec, 或者加载预训练过的word2vec(gensim的网站上有说明如何下载并使用预训练过的词向量)。\n",
    "(b) 考虑如何使用词向量得到句子的表示向量（feature）。\n",
    "(c) 将向量转化为其余部分可以处理的形式（如：dict）\n",
    "(d) 考虑如何**更好地**使用词向量得到句子的表示向量（feature）。\n",
    "\n",
    "提示: 在ipynb的代码块中可以使用! 来执行命令行中的命令, 例如\n",
    "```\n",
    "!pip install gensim\n",
    "```"
   ],
   "metadata": {}
  },
  {
   "cell_type": "code",
   "execution_count": 100,
   "source": [
    "def extractFeatures(x):\n",
    "    \"\"\"\n",
    "    从字符串x中提取特征\n",
    "    @param string x: \n",
    "    @return dict: a feature vector represented by a mapping from a feature (string) to a weight (float).\n",
    "    \"\"\"\n",
    "    feat = dict()\n",
    "    # BEGIN_YOUR_CODE \n",
    "    \n",
    "    # END_YOUR_CODE\n",
    "    return feat"
   ],
   "outputs": [],
   "metadata": {}
  },
  {
   "cell_type": "markdown",
   "source": [
    "### (4) Test your feature extractor\n",
    "实现了特征提取函数之后，可以简单地测试输出的正确性"
   ],
   "metadata": {}
  },
  {
   "cell_type": "code",
   "execution_count": 101,
   "source": [
    "extractFeatures(\"a truly wonderful tale combined with stunning animation .\")"
   ],
   "outputs": [],
   "metadata": {}
  },
  {
   "cell_type": "markdown",
   "source": [
    "## 学习与梯度更新\n",
    "你需要理解题目中的loss_function, 自行推导出weights的更新公式，\n",
    "通过对训练集上样本的迭代，来更新weights"
   ],
   "metadata": {}
  },
  {
   "cell_type": "code",
   "execution_count": 97,
   "source": [
    "\n",
    "def learnPredictor(trainExamples, testExamples, featureExtractor, numIters, eta):\n",
    "    '''\n",
    "    给定训练数据和测试数据，特征提取器|featureExtractor|、训练轮数|numIters|和学习率|eta|，\n",
    "    返回学习后的权重weights\n",
    "    你需要实现随机梯度下降优化权重\n",
    "    '''\n",
    "    weights = {}\n",
    "    for  i in range(0, numIters):\n",
    "        # BEGIN_YOUR_CODE\n",
    "\n",
    "        # END_YOUR_CODE\n",
    "        trainError = evaluatePredictor(trainExamples, lambda x : (1 if dotProduct(featureExtractor(x), weights) >= 0 else -1))\n",
    "        testError= evaluatePredictor(testExamples, lambda x : (1 if dotProduct(featureExtractor(x), weights) >= 0 else -1))\n",
    "        print(\"At iteration %d, error rate on training set is  %f, error rate on test set is %f \" % \\\n",
    "            (i, trainError, testError)) \n",
    "    return weights\n"
   ],
   "outputs": [],
   "metadata": {}
  },
  {
   "cell_type": "markdown",
   "source": [
    "## 已经定义好的训练测试流程"
   ],
   "metadata": {}
  },
  {
   "cell_type": "code",
   "execution_count": 98,
   "source": [
    "def TestModel(numIters, eta):\n",
    "    trainExamples = readExamples('data/data_rt.train')\n",
    "    testExamples = readExamples('data/data_rt.test')\n",
    "    featureExtractor = extractFeatures\n",
    "    weights = learnPredictor(trainExamples, testExamples, featureExtractor, numIters=numIters, eta=eta)\n",
    "    trainError = evaluatePredictor(trainExamples, lambda x : (1 if dotProduct(featureExtractor(x), weights) >= 0 else -1))\n",
    "    testError = evaluatePredictor(testExamples, lambda x : (1 if dotProduct(featureExtractor(x), weights) >= 0 else -1))\n",
    "    print (\"train error = %s, test error = %s\" % (trainError, testError))\n"
   ],
   "outputs": [],
   "metadata": {}
  },
  {
   "cell_type": "markdown",
   "source": [
    "## 测试你的模型!\n",
    "(a) 超参请自行更改\n",
    "(b) 自行增加代码来进行训练loss和测试loss变化图的绘制\n",
    "(b) 分析性能,模型泛化能力, 权重weights的可解释性等等"
   ],
   "metadata": {}
  },
  {
   "cell_type": "code",
   "execution_count": null,
   "source": [
    "TestModel(20, 0.01)"
   ],
   "outputs": [],
   "metadata": {}
  }
 ],
 "metadata": {
  "orig_nbformat": 4,
  "language_info": {
   "name": "python",
   "version": "3.8.5",
   "mimetype": "text/x-python",
   "codemirror_mode": {
    "name": "ipython",
    "version": 3
   },
   "pygments_lexer": "ipython3",
   "nbconvert_exporter": "python",
   "file_extension": ".py"
  },
  "kernelspec": {
   "name": "python3",
   "display_name": "Python 3.8.5 64-bit ('base': conda)"
  },
  "interpreter": {
   "hash": "360e1296ec1cf693a44132c53344586757f6573cbbb9fe6fc8b93b8db91badb0"
  }
 },
 "nbformat": 4,
 "nbformat_minor": 2
}